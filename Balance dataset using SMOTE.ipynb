{
 "cells": [
  {
   "cell_type": "markdown",
   "id": "3591942a",
   "metadata": {},
   "source": [
    "###  This notebook will show you how you can use SMOTE to balance an imbalanced dataset\n",
    "\n",
    "SMOTE is a method used to balance imbalanced datasets by creating new synthetic samples for the minority class. It addresses the issue of overfitting that can arise from simple random oversampling. Instead of just duplicating existing instances, SMOTE works within the feature space to generate new data points by interpolating between neighboring positive instances of the minority class."
   ]
  },
  {
   "cell_type": "code",
   "execution_count": 31,
   "id": "3c621c9b",
   "metadata": {},
   "outputs": [],
   "source": [
    "#First time installation\n",
    "#!pip install imblearn"
   ]
  },
  {
   "cell_type": "code",
   "execution_count": 28,
   "id": "6a7803f2",
   "metadata": {},
   "outputs": [],
   "source": [
    "#Import all necessary librariesimport pandas as pd\n",
    "import numpy as np\n",
    "from sklearn.model_selection import train_test_split\n",
    "from imblearn.over_sampling import SMOTE\n",
    "import os"
   ]
  },
  {
   "cell_type": "code",
   "execution_count": 4,
   "id": "3c8f0f43",
   "metadata": {},
   "outputs": [
    {
     "name": "stdout",
     "output_type": "stream",
     "text": [
      "0    1000\n",
      "1     100\n",
      "Name: label, dtype: int64\n"
     ]
    }
   ],
   "source": [
    "\"\"\"\n",
    "This code generates synthetic data for a binary classification problem with two classes: \n",
    "majority (labeled as 0) and minority (labeled as 1). \n",
    "It creates a dataset of random samples in a 2-dimensional space. \n",
    "\n",
    "\"\"\"\n",
    "    \n",
    "# Set the number of samples for each class\n",
    "n_samples_majority = 1000\n",
    "n_samples_minority = 100\n",
    "\n",
    "# Generate the majority class samples\n",
    "df_majority = pd.DataFrame(np.random.rand(n_samples_majority, 2))\n",
    "df_majority[\"label\"] = 0\n",
    "\n",
    "# Generate the minority class samples\n",
    "df_minority = pd.DataFrame(np.random.rand(n_samples_minority, 2) + 2)\n",
    "df_minority[\"label\"] = 1\n",
    "\n",
    "# Combine the majority and minority class samples\n",
    "df = pd.concat([df_majority, df_minority])\n",
    "\n",
    "# Print the class distribution\n",
    "print(df[\"label\"].value_counts())"
   ]
  },
  {
   "cell_type": "code",
   "execution_count": 6,
   "id": "99a0eea2",
   "metadata": {
    "scrolled": true
   },
   "outputs": [
    {
     "data": {
      "text/html": [
       "<div>\n",
       "<style scoped>\n",
       "    .dataframe tbody tr th:only-of-type {\n",
       "        vertical-align: middle;\n",
       "    }\n",
       "\n",
       "    .dataframe tbody tr th {\n",
       "        vertical-align: top;\n",
       "    }\n",
       "\n",
       "    .dataframe thead th {\n",
       "        text-align: right;\n",
       "    }\n",
       "</style>\n",
       "<table border=\"1\" class=\"dataframe\">\n",
       "  <thead>\n",
       "    <tr style=\"text-align: right;\">\n",
       "      <th></th>\n",
       "      <th>0</th>\n",
       "      <th>1</th>\n",
       "      <th>label</th>\n",
       "    </tr>\n",
       "  </thead>\n",
       "  <tbody>\n",
       "    <tr>\n",
       "      <th>0</th>\n",
       "      <td>0.635612</td>\n",
       "      <td>0.042486</td>\n",
       "      <td>0</td>\n",
       "    </tr>\n",
       "    <tr>\n",
       "      <th>1</th>\n",
       "      <td>0.547591</td>\n",
       "      <td>0.550873</td>\n",
       "      <td>0</td>\n",
       "    </tr>\n",
       "    <tr>\n",
       "      <th>2</th>\n",
       "      <td>0.749612</td>\n",
       "      <td>0.940050</td>\n",
       "      <td>0</td>\n",
       "    </tr>\n",
       "    <tr>\n",
       "      <th>3</th>\n",
       "      <td>0.050989</td>\n",
       "      <td>0.753128</td>\n",
       "      <td>0</td>\n",
       "    </tr>\n",
       "    <tr>\n",
       "      <th>4</th>\n",
       "      <td>0.584046</td>\n",
       "      <td>0.526648</td>\n",
       "      <td>0</td>\n",
       "    </tr>\n",
       "    <tr>\n",
       "      <th>...</th>\n",
       "      <td>...</td>\n",
       "      <td>...</td>\n",
       "      <td>...</td>\n",
       "    </tr>\n",
       "    <tr>\n",
       "      <th>95</th>\n",
       "      <td>2.841486</td>\n",
       "      <td>2.880615</td>\n",
       "      <td>1</td>\n",
       "    </tr>\n",
       "    <tr>\n",
       "      <th>96</th>\n",
       "      <td>2.759495</td>\n",
       "      <td>2.056199</td>\n",
       "      <td>1</td>\n",
       "    </tr>\n",
       "    <tr>\n",
       "      <th>97</th>\n",
       "      <td>2.529830</td>\n",
       "      <td>2.737648</td>\n",
       "      <td>1</td>\n",
       "    </tr>\n",
       "    <tr>\n",
       "      <th>98</th>\n",
       "      <td>2.716458</td>\n",
       "      <td>2.049005</td>\n",
       "      <td>1</td>\n",
       "    </tr>\n",
       "    <tr>\n",
       "      <th>99</th>\n",
       "      <td>2.349340</td>\n",
       "      <td>2.264909</td>\n",
       "      <td>1</td>\n",
       "    </tr>\n",
       "  </tbody>\n",
       "</table>\n",
       "<p>1100 rows × 3 columns</p>\n",
       "</div>"
      ],
      "text/plain": [
       "           0         1  label\n",
       "0   0.635612  0.042486      0\n",
       "1   0.547591  0.550873      0\n",
       "2   0.749612  0.940050      0\n",
       "3   0.050989  0.753128      0\n",
       "4   0.584046  0.526648      0\n",
       "..       ...       ...    ...\n",
       "95  2.841486  2.880615      1\n",
       "96  2.759495  2.056199      1\n",
       "97  2.529830  2.737648      1\n",
       "98  2.716458  2.049005      1\n",
       "99  2.349340  2.264909      1\n",
       "\n",
       "[1100 rows x 3 columns]"
      ]
     },
     "execution_count": 6,
     "metadata": {},
     "output_type": "execute_result"
    }
   ],
   "source": [
    "df"
   ]
  },
  {
   "cell_type": "code",
   "execution_count": 22,
   "id": "fa00e546",
   "metadata": {},
   "outputs": [
    {
     "name": "stdout",
     "output_type": "stream",
     "text": [
      "Features (X):             0         1\n",
      "822  0.221628  0.922134\n",
      "423  0.732389  0.921703\n",
      "497  0.111181  0.365762\n",
      "202  0.955953  0.521996\n",
      "449  0.296470  0.622233\n",
      "\n",
      "Target (y): 797    0\n",
      "498    0\n",
      "331    0\n",
      "55     1\n",
      "992    0\n",
      "Name: label, dtype: int64\n"
     ]
    }
   ],
   "source": [
    "# Splitting the DataFrame into features (X) and target (y)\n",
    "X = df.drop(\"label\", axis=1)  # Drop the \"label\" column to get the features\n",
    "y = df[\"label\"]  # Select the \"label\" column as the target\n",
    "\n",
    "# Print the first few rows of X and y for verification\n",
    "print(\"Features (X):\", X.sample(5))\n",
    "print(\"\\nTarget (y):\", y.sample(5))\n"
   ]
  },
  {
   "cell_type": "code",
   "execution_count": 23,
   "id": "a40570b1",
   "metadata": {},
   "outputs": [],
   "source": [
    "# Split the dataset into train and test sets\n",
    "X_train, X_test, y_train, y_test = train_test_split(X, y, test_size=0.2, random_state=42)\n",
    "\n",
    "# Create a SMOTE object\n",
    "smote = SMOTE(random_state=42)\n",
    "\n",
    "# Resample the train set using SMOTE\n",
    "X_train_smote, y_train_smote = smote.fit_resample(X_train, y_train)\n"
   ]
  },
  {
   "cell_type": "code",
   "execution_count": 30,
   "id": "1c9f5fa2",
   "metadata": {},
   "outputs": [
    {
     "name": "stdout",
     "output_type": "stream",
     "text": [
      "Class Counts:\n",
      "0    796\n",
      "1    796\n",
      "Name: label, dtype: int64\n",
      "\n",
      "Balanced DataFrame:\n",
      "             0         1  label\n",
      "572   0.054158  0.134275      0\n",
      "1309  2.372451  2.418068      1\n",
      "141   0.485411  0.211238      0\n",
      "511   0.401186  0.969354      0\n",
      "999   2.862182  2.944962      1\n"
     ]
    }
   ],
   "source": [
    "# Print the count for each class\n",
    "class_counts = pd.Series(y_train_smote).value_counts()\n",
    "print(\"Class Counts:\")\n",
    "print(class_counts)\n",
    "\n",
    "# Create a DataFrame for the balanced dataset\n",
    "balanced_df = pd.DataFrame(X_train_smote, columns=X_train.columns)\n",
    "balanced_df[\"label\"] = y_train_smote\n",
    "\n",
    "# Print the first few rows of the balanced DataFrame\n",
    "print(\"\\nBalanced DataFrame:\")\n",
    "print(balanced_df.sample(5))\n",
    "\n",
    "# Save the balanced DataFrame as a variable (optional)\n",
    "balanced_df.to_csv(\"balanced_dataset.csv\", index=False)"
   ]
  },
  {
   "cell_type": "code",
   "execution_count": null,
   "id": "69704859",
   "metadata": {},
   "outputs": [],
   "source": []
  }
 ],
 "metadata": {
  "kernelspec": {
   "display_name": "Python 3 (ipykernel)",
   "language": "python",
   "name": "python3"
  },
  "language_info": {
   "codemirror_mode": {
    "name": "ipython",
    "version": 3
   },
   "file_extension": ".py",
   "mimetype": "text/x-python",
   "name": "python",
   "nbconvert_exporter": "python",
   "pygments_lexer": "ipython3",
   "version": "3.10.11"
  }
 },
 "nbformat": 4,
 "nbformat_minor": 5
}
